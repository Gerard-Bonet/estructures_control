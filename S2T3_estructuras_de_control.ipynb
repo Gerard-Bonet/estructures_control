{
 "cells": [
  {
   "cell_type": "markdown",
   "id": "fbb24e42",
   "metadata": {},
   "source": [
    "# Práctica 3. Estructuras de control. "
   ]
  },
  {
   "cell_type": "markdown",
   "id": "0ef44edd",
   "metadata": {},
   "source": [
    "1.  Crea un programa que te clasifique una variable numérica en función de la escala \n",
    "\n",
    "Suspendido/ Aprobado/ Notable / Excelente "
   ]
  },
  {
   "cell_type": "code",
   "execution_count": 38,
   "id": "9d09bff8",
   "metadata": {},
   "outputs": [
    {
     "name": "stdout",
     "output_type": "stream",
     "text": [
      "introduce una nota del 0 al 10 :   11\n",
      " Valor de nota fuera de rango \n",
      "introduce una nota del 0 al 10 :   7.5\n",
      " Notable\n"
     ]
    }
   ],
   "source": [
    "# Primero pedimos la entrada de una nota manualmente. \n",
    "y = input ( \"introduce una nota del 0 al 10 :   \",  )\n",
    "y = float (y) # al convertirla en decimal,nos aseguramos la entrada de cualquier nota \n",
    "\n",
    "# Creamos una función que transforme una variable numércia a una escala de valoración no numérica. \n",
    "def nota ( x ): \n",
    "    if   x >= 0  and x < 5 : \n",
    "        return  \" Suspendido \"\n",
    "    if x >= 5  and x <=7 : \n",
    "        return   \" Aprobado\" \n",
    "    if x > 7 and x <=9 : \n",
    "        return   \" Notable\" \n",
    "    if x > 9 and x <=10 : \n",
    "        return   \" Excelente\"\n",
    "\n",
    "# Con lo siguiente nos aseguramos que la nota esté dentro del rango de 0 a 10 y aplicamos la conversión\n",
    "# mediante la funcion llamada nota (x)\n",
    "\n",
    "if y <0 or y >10 : \n",
    "    print ( \" Valor de nota fuera de rango \")\n",
    "    y2 = float (input ( \"introduce una nota del 0 al 10 :   \",  ))\n",
    "    print( nota (y2))\n",
    "else : \n",
    "    print ( nota ( y))"
   ]
  },
  {
   "cell_type": "markdown",
   "id": "73678e24",
   "metadata": {},
   "source": [
    "2. Introduce dos números cualesquiera y crea un programa que diga cuál es más grande que el otro o si son iguales\n"
   ]
  },
  {
   "cell_type": "code",
   "execution_count": 44,
   "id": "48c9f455",
   "metadata": {},
   "outputs": [
    {
     "name": "stdout",
     "output_type": "stream",
     "text": [
      "introduce un valor para la primera variable :  4\n",
      "introduce otro valor para la segunda variable :  4\n",
      "4.0  es igual a  4.0\n"
     ]
    }
   ],
   "source": [
    "k = float ( input ( \"introduce un valor para la primera variable :  \"))\n",
    "l= float ( input ( \"introduce otro valor para la segunda variable :  \"))\n",
    "\n",
    "if k > l : \n",
    "    print ( k , \" es más grande que \" , l )\n",
    "elif l > k : \n",
    "    print ( l , \" es más grande que \" , k )\n",
    "else:\n",
    "    print ( k , \" es igual a \", l)\n",
    "        "
   ]
  },
  {
   "cell_type": "markdown",
   "id": "d8d0fdae",
   "metadata": {},
   "source": [
    "3.  Crea un programa que te pregunte tu nombre, y te solicite un número.\n",
    "\n",
    "Si el número es 0, debería mostrar un mensaje de error. De lo contrario,\n",
    "\n",
    "debería mostrar el nombre repetido tantas veces como indique el número"
   ]
  },
  {
   "cell_type": "code",
   "execution_count": 47,
   "id": "6aacaecf",
   "metadata": {},
   "outputs": [
    {
     "name": "stdout",
     "output_type": "stream",
     "text": [
      " introduce tu nombre Gerard \n",
      " introduce un número entero 5\n",
      "Gerard Gerard Gerard Gerard Gerard \n"
     ]
    }
   ],
   "source": [
    "# Se introducen las dos variables mediante teclado\n",
    "nom = input ( \" introduce tu nombre \")\n",
    "num= abs (int (input( \" introduce un número entero \")))\n",
    "# Pedimos que el número sea entero para asegurarnos que la multiplicación \n",
    "# de cadenas de caracteres sea posible \n",
    "# Luego, creamos el programa para que nos calcule la operación, dejando \n",
    "# fuera la multiplicaicón por cero\n",
    "if num == 0 : \n",
    "    print ( \" Error, ha puesto el cero y no es válido\")\n",
    "else : \n",
    "    print ( num* nom )\n",
    "    "
   ]
  },
  {
   "cell_type": "markdown",
   "id": "b9aa2915",
   "metadata": {},
   "source": [
    "4. Crea un programa que dada una lista cualquiera,\n",
    "\n",
    "te diga si es simétrica o no. \n",
    "\n",
    "Si lo es, que te diga cuántos elementos tiene."
   ]
  },
  {
   "cell_type": "code",
   "execution_count": 127,
   "id": "870e6b0d",
   "metadata": {},
   "outputs": [
    {
     "name": "stdout",
     "output_type": "stream",
     "text": [
      "introduce un número filas : 3\n",
      "introduce un número columnas : 3\n",
      " la lista es:  \n",
      "[[ 1 -1  0]\n",
      " [-1  1  0]\n",
      " [ 0  0  0]]\n",
      "\n",
      " \n",
      " matriz transpuesta es : \n",
      "[[ 1 -1  0]\n",
      " [-1  1  0]\n",
      " [ 0  0  0]]\n",
      "\n",
      " \n",
      " es una lista simétrica \n"
     ]
    }
   ],
   "source": [
    "import random \n",
    "import numpy as np\n",
    "\n",
    "# sea una lista cualquiera, pongamos un matriz n*m,  \n",
    "n = int ( input ( \"introduce un número filas : \"))\n",
    "m = int ( input ( \"introduce un número columnas : \"))\n",
    "list = []\n",
    "\n",
    "# creamos un bucle para hacer una matriz aleatoria con valores enteros de una cifra \n",
    "for j in range (0,m):\n",
    "    col =  [] # el nombre de col hace referencia a columna \n",
    "    for i in range (0,n):\n",
    "        col. append ( random.randint ( 0,1)* ((-1)**random.randint ( 1,2) ) )\n",
    "    list. append (col)    \n",
    "        \n",
    "\n",
    "\n",
    "# para que sea simétrica como mínimo su ha de ser una matriz cuadrada, tal que m =n \n",
    "    mat = np.array ( list) # usamos numpy para calcular la transpuesta\n",
    "if m != n : \n",
    "    print ( \" la matriz no es simétrica y contiene \", len ( mat ), \"columnas\")\n",
    "else:\n",
    "    \n",
    "    dif = np.array_equal(mat,mat.T) # sea dif, la diferencia de las matrices,dando un valor cierto  si \n",
    "                                     # tienen los mismos elementos\n",
    "    print ( \" la lista es:  \"  )\n",
    "    print ( mat)\n",
    "    print ( \"\\n \")\n",
    "    print (\" matriz transpuesta es : \" )\n",
    "    print ( mat.T)\n",
    "    print ( \"\\n \")\n",
    "    if dif == True: \n",
    "        print ( \" es una lista simétrica \")\n",
    "    else : \n",
    "        print ( \" la matriz no es simétrica y contiene \", len ( mat ), \"columnas\") \n",
    "        \n",
    "    \n"
   ]
  },
  {
   "cell_type": "markdown",
   "id": "49acca2a",
   "metadata": {},
   "source": [
    "5.  Crea un programa que dada una lista, te diga cuántos números coinciden con su posición"
   ]
  },
  {
   "cell_type": "code",
   "execution_count": 131,
   "id": "28e8d2cb",
   "metadata": {},
   "outputs": [
    {
     "name": "stdout",
     "output_type": "stream",
     "text": [
      "[9, 0, 4, 7, 3, 0, 6, 3, 8, 8]\n",
      " la cantidad de elementos de la serie, que coincide su valor con su posición es :  3\n"
     ]
    }
   ],
   "source": [
    "serie = [] # sea la lista a comparar de 10 elementos, que crearemos de forma aleatoria \n",
    "for r in range ( 0,10 ):\n",
    "    serie.append ( random.randint (0, 9 ))\n",
    "print ( serie )\n",
    "\n",
    "tot = 0 # sea una variable auxiliar para contar cuantos números coinciden con su posición.\n",
    "for s in serie : \n",
    "    if s== serie [s]:\n",
    "        tot = tot +1\n",
    "print ( \" la cantidad de elementos de la serie, que coincide su valor con su posición es : \", tot)\n",
    "        "
   ]
  },
  {
   "cell_type": "code",
   "execution_count": null,
   "id": "f98f8cb6",
   "metadata": {},
   "outputs": [],
   "source": []
  }
 ],
 "metadata": {
  "kernelspec": {
   "display_name": "Python 3 (ipykernel)",
   "language": "python",
   "name": "python3"
  },
  "language_info": {
   "codemirror_mode": {
    "name": "ipython",
    "version": 3
   },
   "file_extension": ".py",
   "mimetype": "text/x-python",
   "name": "python",
   "nbconvert_exporter": "python",
   "pygments_lexer": "ipython3",
   "version": "3.9.7"
  }
 },
 "nbformat": 4,
 "nbformat_minor": 5
}
